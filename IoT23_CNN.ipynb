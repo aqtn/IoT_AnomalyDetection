{
  "cells": [
    {
      "cell_type": "code",
      "execution_count": 27,
      "id": "floating-offense",
      "metadata": {
        "id": "floating-offense"
      },
      "outputs": [],
      "source": [
        "import numpy as np\n",
        "import pandas as pd\n",
        "import tensorflow as tf\n",
        "from matplotlib import pyplot\n",
        "from tensorflow.keras import Model\n",
        "from tensorflow.keras import Sequential\n",
        "from tensorflow.keras.models import Sequential, Model\n",
        "from tensorflow.keras.layers import Conv2D, Input, Dropout, Activation, Dense, MaxPooling2D, Flatten, GlobalAveragePooling2D\n",
        "from tensorflow.keras.optimizers import Adadelta\n",
        "from tensorflow.keras.callbacks import ModelCheckpoint\n",
        "from tensorflow.keras.layers import Dense\n",
        "from tensorflow.keras.layers import LSTM\n",
        "import sklearn\n",
        "from sklearn.preprocessing import MinMaxScaler"
      ]
    },
    {
      "cell_type": "code",
      "source": [
        "from google.colab import drive\n",
        "drive.mount('/content/drive')"
      ],
      "metadata": {
        "colab": {
          "base_uri": "https://localhost:8080/"
        },
        "id": "uBcuuTXP2T4w",
        "outputId": "0ed65521-45c2-4080-b539-14995cb44b93"
      },
      "id": "uBcuuTXP2T4w",
      "execution_count": 28,
      "outputs": [
        {
          "output_type": "stream",
          "name": "stdout",
          "text": [
            "Drive already mounted at /content/drive; to attempt to forcibly remount, call drive.mount(\"/content/drive\", force_remount=True).\n"
          ]
        }
      ]
    },
    {
      "cell_type": "code",
      "execution_count": 54,
      "id": "better-permit",
      "metadata": {
        "id": "better-permit"
      },
      "outputs": [],
      "source": [
        "filepath = \"/content/drive/MyDrive/ColabNotebooks/iot23_combined.csv\"\n",
        "df = pd.read_csv(filepath)"
      ]
    },
    {
      "cell_type": "code",
      "execution_count": 55,
      "id": "paperback-heritage",
      "metadata": {
        "id": "paperback-heritage"
      },
      "outputs": [],
      "source": [
        "del df['Unnamed: 0']"
      ]
    },
    {
      "cell_type": "code",
      "execution_count": 56,
      "id": "inside-north",
      "metadata": {
        "colab": {
          "base_uri": "https://localhost:8080/"
        },
        "id": "inside-north",
        "outputId": "2b7db1b7-dda4-488a-adc1-7f01069ea7ba"
      },
      "outputs": [
        {
          "output_type": "execute_result",
          "data": {
            "text/plain": [
              "PartOfAHorizontalPortScan    148234\n",
              "Benign                        63041\n",
              "C&C                           14935\n",
              "DDoS                          14394\n",
              "Attack                         3814\n",
              "C&C-Torii                        30\n",
              "C&C-FileDownload                  2\n",
              "FileDownload                      2\n",
              "Name: label, dtype: int64"
            ]
          },
          "metadata": {},
          "execution_count": 56
        }
      ],
      "source": [
        "df['label'].value_counts()"
      ]
    },
    {
      "cell_type": "code",
      "execution_count": 57,
      "id": "average-mechanics",
      "metadata": {
        "id": "average-mechanics"
      },
      "outputs": [],
      "source": [
        "from sklearn.model_selection import train_test_split"
      ]
    },
    {
      "cell_type": "code",
      "execution_count": 89,
      "id": "steady-hotel",
      "metadata": {
        "id": "steady-hotel"
      },
      "outputs": [],
      "source": [
        "X = df[['duration', 'orig_bytes', 'resp_bytes', 'missed_bytes', 'orig_pkts', 'orig_ip_bytes', 'resp_pkts', 'resp_ip_bytes', 'proto_icmp', 'proto_tcp', 'proto_udp', 'conn_state_OTH', 'conn_state_REJ', 'conn_state_RSTO', 'conn_state_RSTOS0', 'conn_state_RSTR', 'conn_state_RSTRH', 'conn_state_S0', 'conn_state_S1', 'conn_state_S2', 'conn_state_S3', 'conn_state_SF', 'conn_state_SH', 'conn_state_SHR']].values"
      ]
    },
    {
      "cell_type": "code",
      "execution_count": 90,
      "id": "published-store",
      "metadata": {
        "id": "published-store"
      },
      "outputs": [],
      "source": [
        "Y = pd.get_dummies(df['label']).values"
      ]
    },
    {
      "cell_type": "code",
      "execution_count": 91,
      "id": "historic-generator",
      "metadata": {
        "id": "historic-generator"
      },
      "outputs": [],
      "source": [
        "scaler = MinMaxScaler()"
      ]
    },
    {
      "cell_type": "code",
      "execution_count": 92,
      "id": "approved-aircraft",
      "metadata": {
        "colab": {
          "base_uri": "https://localhost:8080/"
        },
        "id": "approved-aircraft",
        "outputId": "271633ef-9342-4dd5-fb35-a8e152fa0d7d"
      },
      "outputs": [
        {
          "output_type": "execute_result",
          "data": {
            "text/plain": [
              "MinMaxScaler()"
            ]
          },
          "metadata": {},
          "execution_count": 92
        }
      ],
      "source": [
        "scaler.fit(X)"
      ]
    },
    {
      "cell_type": "code",
      "execution_count": 93,
      "id": "fiscal-aluminum",
      "metadata": {
        "id": "fiscal-aluminum"
      },
      "outputs": [],
      "source": [
        "normalized_x = scaler.transform(X)"
      ]
    },
    {
      "cell_type": "code",
      "execution_count": 94,
      "id": "legislative-jamaica",
      "metadata": {
        "colab": {
          "base_uri": "https://localhost:8080/"
        },
        "id": "legislative-jamaica",
        "outputId": "b044bc08-7d20-4e9c-c808-d78514a31cdc"
      },
      "outputs": [
        {
          "output_type": "execute_result",
          "data": {
            "text/plain": [
              "MinMaxScaler()"
            ]
          },
          "metadata": {},
          "execution_count": 94
        }
      ],
      "source": [
        "scaler.fit(Y)"
      ]
    },
    {
      "cell_type": "code",
      "execution_count": 95,
      "id": "strange-tobacco",
      "metadata": {
        "id": "strange-tobacco"
      },
      "outputs": [],
      "source": [
        "normalized_y = scaler.transform(Y)"
      ]
    },
    {
      "cell_type": "code",
      "execution_count": 96,
      "id": "touched-tanzania",
      "metadata": {
        "id": "touched-tanzania"
      },
      "outputs": [],
      "source": [
        "X_train, X_test, Y_train, Y_test = train_test_split(normalized_x, normalized_y, random_state=10, test_size=0.2)"
      ]
    },
    {
      "cell_type": "code",
      "execution_count": 97,
      "id": "worst-restriction",
      "metadata": {
        "id": "worst-restriction"
      },
      "outputs": [],
      "source": [
        "model = Sequential()"
      ]
    },
    {
      "cell_type": "code",
      "execution_count": 98,
      "id": "earned-advertiser",
      "metadata": {
        "id": "earned-advertiser"
      },
      "outputs": [],
      "source": [
        "model.add(Dense(2000, activation='relu',input_dim=24))\n",
        "model.add(Dense(1500, activation='relu'))\n",
        "model.add(Dropout(0.2))\n",
        "model.add(Dense(800,activation='relu'))\n",
        "model.add(Dropout(0.2))\n",
        "model.add(Dense(400,activation='relu'))\n",
        "model.add(Dropout(0.2))\n",
        "model.add(Dense(150,activation='relu'))\n",
        "model.add(Dropout(0.2))\n",
        "model.add(Dense(8, activation='softmax'))\n",
        "model.compile(loss='categorical_crossentropy', optimizer='adam', metrics=['accuracy'])\n"
      ]
    },
    {
      "cell_type": "code",
      "execution_count": 99,
      "id": "specified-duplicate",
      "metadata": {
        "colab": {
          "base_uri": "https://localhost:8080/"
        },
        "id": "specified-duplicate",
        "outputId": "7723565c-fe36-4548-af93-fef95cb5a1ba"
      },
      "outputs": [
        {
          "output_type": "stream",
          "name": "stdout",
          "text": [
            "Model: \"sequential_4\"\n",
            "_________________________________________________________________\n",
            " Layer (type)                Output Shape              Param #   \n",
            "=================================================================\n",
            " dense_24 (Dense)            (None, 2000)              50000     \n",
            "                                                                 \n",
            " dense_25 (Dense)            (None, 1500)              3001500   \n",
            "                                                                 \n",
            " dropout_16 (Dropout)        (None, 1500)              0         \n",
            "                                                                 \n",
            " dense_26 (Dense)            (None, 800)               1200800   \n",
            "                                                                 \n",
            " dropout_17 (Dropout)        (None, 800)               0         \n",
            "                                                                 \n",
            " dense_27 (Dense)            (None, 400)               320400    \n",
            "                                                                 \n",
            " dropout_18 (Dropout)        (None, 400)               0         \n",
            "                                                                 \n",
            " dense_28 (Dense)            (None, 150)               60150     \n",
            "                                                                 \n",
            " dropout_19 (Dropout)        (None, 150)               0         \n",
            "                                                                 \n",
            " dense_29 (Dense)            (None, 8)                 1208      \n",
            "                                                                 \n",
            "=================================================================\n",
            "Total params: 4,634,058\n",
            "Trainable params: 4,634,058\n",
            "Non-trainable params: 0\n",
            "_________________________________________________________________\n"
          ]
        }
      ],
      "source": [
        "model.summary()"
      ]
    },
    {
      "cell_type": "code",
      "execution_count": 84,
      "id": "recognized-sunset",
      "metadata": {
        "id": "recognized-sunset"
      },
      "outputs": [],
      "source": [
        "import time"
      ]
    },
    {
      "cell_type": "code",
      "execution_count": 100,
      "id": "distinct-effort",
      "metadata": {
        "colab": {
          "base_uri": "https://localhost:8080/"
        },
        "id": "distinct-effort",
        "outputId": "8808dd2c-f20e-4f48-fa8e-0581ca932441"
      },
      "outputs": [
        {
          "output_type": "stream",
          "name": "stdout",
          "text": [
            "program start...\n",
            "\n",
            "Epoch 1/10\n",
            "764/764 [==============================] - 142s 185ms/step - loss: 0.3395 - accuracy: 0.9070 - val_loss: 0.3179 - val_accuracy: 0.9112\n",
            "Epoch 2/10\n",
            "764/764 [==============================] - 145s 190ms/step - loss: 0.3222 - accuracy: 0.9105 - val_loss: 0.3187 - val_accuracy: 0.9083\n",
            "Epoch 3/10\n",
            "764/764 [==============================] - 142s 186ms/step - loss: 0.3205 - accuracy: 0.9106 - val_loss: 0.3170 - val_accuracy: 0.9113\n",
            "Epoch 4/10\n",
            "764/764 [==============================] - 145s 189ms/step - loss: 0.3196 - accuracy: 0.9107 - val_loss: 0.3158 - val_accuracy: 0.9110\n",
            "Epoch 5/10\n",
            "764/764 [==============================] - 141s 184ms/step - loss: 0.3159 - accuracy: 0.9128 - val_loss: 0.3101 - val_accuracy: 0.9148\n",
            "Epoch 6/10\n",
            "764/764 [==============================] - 146s 190ms/step - loss: 0.3146 - accuracy: 0.9135 - val_loss: 0.3161 - val_accuracy: 0.9114\n",
            "Epoch 7/10\n",
            "764/764 [==============================] - 141s 184ms/step - loss: 0.3128 - accuracy: 0.9139 - val_loss: 0.3093 - val_accuracy: 0.9152\n",
            "Epoch 8/10\n",
            "764/764 [==============================] - 145s 189ms/step - loss: 0.3118 - accuracy: 0.9143 - val_loss: 0.3099 - val_accuracy: 0.9147\n",
            "Epoch 9/10\n",
            "764/764 [==============================] - 141s 185ms/step - loss: 0.3117 - accuracy: 0.9143 - val_loss: 0.3100 - val_accuracy: 0.9151\n",
            "Epoch 10/10\n",
            "764/764 [==============================] - 145s 189ms/step - loss: 0.3114 - accuracy: 0.9142 - val_loss: 0.3093 - val_accuracy: 0.9151\n",
            "\n",
            "program end...\n",
            "\n",
            "time cost: \n",
            "1462.734806060791 seconds\n"
          ]
        }
      ],
      "source": [
        "start = time.time()\n",
        "print('program start...')\n",
        "print()\n",
        "\n",
        "history = model.fit(X_train, Y_train, epochs = 10, batch_size=256, validation_data=(X_test,Y_test),verbose=1)\n",
        "\n",
        "print()\n",
        "end = time.time()\n",
        "print('program end...')\n",
        "print()\n",
        "print('time cost: ')\n",
        "print(end - start, 'seconds')"
      ]
    }
  ],
  "metadata": {
    "kernelspec": {
      "display_name": "Python 3",
      "language": "python",
      "name": "python3"
    },
    "language_info": {
      "codemirror_mode": {
        "name": "ipython",
        "version": 3
      },
      "file_extension": ".py",
      "mimetype": "text/x-python",
      "name": "python",
      "nbconvert_exporter": "python",
      "pygments_lexer": "ipython3",
      "version": "3.8.5"
    },
    "colab": {
      "provenance": []
    }
  },
  "nbformat": 4,
  "nbformat_minor": 5
}