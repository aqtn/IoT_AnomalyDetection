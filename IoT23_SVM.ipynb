{
  "cells": [
    {
      "cell_type": "code",
      "execution_count": 1,
      "id": "interstate-borough",
      "metadata": {
        "id": "interstate-borough"
      },
      "outputs": [],
      "source": [
        "import pandas as pd\n",
        "from sklearn.svm import SVC\n",
        "from sklearn.model_selection import GridSearchCV\n",
        "from sklearn.metrics import classification_report, confusion_matrix\n",
        "from sklearn.model_selection import train_test_split\n",
        "import time\n",
        "import numpy as np"
      ]
    },
    {
      "cell_type": "code",
      "source": [
        "from google.colab import drive\n",
        "drive.mount('/content/drive')"
      ],
      "metadata": {
        "colab": {
          "base_uri": "https://localhost:8080/"
        },
        "id": "inpaRaXJ2NNs",
        "outputId": "d2248b7e-9f2c-4f06-b0ba-8600213840b4"
      },
      "id": "inpaRaXJ2NNs",
      "execution_count": 2,
      "outputs": [
        {
          "output_type": "stream",
          "name": "stdout",
          "text": [
            "Mounted at /content/drive\n"
          ]
        }
      ]
    },
    {
      "cell_type": "code",
      "execution_count": 3,
      "id": "specific-envelope",
      "metadata": {
        "id": "specific-envelope"
      },
      "outputs": [],
      "source": [
        "filepath = \"/content/drive/MyDrive/ColabNotebooks/iot23_combined.csv\""
      ]
    },
    {
      "cell_type": "code",
      "execution_count": 4,
      "id": "destroyed-effect",
      "metadata": {
        "id": "destroyed-effect"
      },
      "outputs": [],
      "source": [
        "df = pd.read_csv(filepath, nrows=400000)"
      ]
    },
    {
      "cell_type": "code",
      "execution_count": 5,
      "id": "charitable-stock",
      "metadata": {
        "id": "charitable-stock"
      },
      "outputs": [],
      "source": [
        "del df['Unnamed: 0']"
      ]
    },
    {
      "cell_type": "code",
      "execution_count": 7,
      "id": "adolescent-positive",
      "metadata": {
        "colab": {
          "base_uri": "https://localhost:8080/"
        },
        "id": "adolescent-positive",
        "outputId": "6227c616-5397-4a4e-ef4d-39240d76b874"
      },
      "outputs": [
        {
          "output_type": "execute_result",
          "data": {
            "text/plain": [
              "PartOfAHorizontalPortScan    148234\n",
              "Benign                        63041\n",
              "C&C                           14935\n",
              "DDoS                          14394\n",
              "Attack                         3814\n",
              "C&C-Torii                        30\n",
              "C&C-FileDownload                  2\n",
              "FileDownload                      2\n",
              "Name: label, dtype: int64"
            ]
          },
          "metadata": {},
          "execution_count": 7
        }
      ],
      "source": [
        "df['label'].value_counts()"
      ]
    },
    {
      "cell_type": "code",
      "execution_count": 8,
      "id": "comprehensive-notebook",
      "metadata": {
        "id": "comprehensive-notebook"
      },
      "outputs": [],
      "source": [
        "df.columns = ['duration', 'orig_bytes', 'resp_bytes', 'missed_bytes', 'orig_pkts', 'orig_ip_bytes', 'resp_pkts', 'resp_ip_bytes', 'label', 'proto_icmp', 'proto_tcp', 'proto_udp', 'conn_state_OTH', 'conn_state_REJ', 'conn_state_RSTO', 'conn_state_RSTOS0', 'conn_state_RSTR', 'conn_state_RSTRH', 'conn_state_S0', 'conn_state_S1', 'conn_state_S2', 'conn_state_S3', 'conn_state_SF', 'conn_state_SH', 'conn_state_SHR']"
      ]
    },
    {
      "cell_type": "code",
      "execution_count": 11,
      "id": "cleared-dictionary",
      "metadata": {
        "id": "cleared-dictionary"
      },
      "outputs": [],
      "source": [
        "X = df[['duration', 'orig_bytes', 'resp_bytes', 'missed_bytes', 'orig_pkts', 'orig_ip_bytes', 'resp_pkts', 'resp_ip_bytes', 'proto_icmp', 'proto_tcp', 'proto_udp', 'conn_state_OTH', 'conn_state_REJ', 'conn_state_RSTO', 'conn_state_RSTOS0', 'conn_state_RSTR', 'conn_state_RSTRH', 'conn_state_S0', 'conn_state_S1', 'conn_state_S2', 'conn_state_S3', 'conn_state_SF', 'conn_state_SH', 'conn_state_SHR']]\n",
        "Y = df['label']"
      ]
    },
    {
      "cell_type": "code",
      "execution_count": 12,
      "id": "sonic-speed",
      "metadata": {
        "id": "sonic-speed"
      },
      "outputs": [],
      "source": [
        "SVM_classifier = SVC()\n",
        "X_train, X_test, Y_train, Y_test = train_test_split(X, Y, random_state=10, test_size=0.2)"
      ]
    },
    {
      "cell_type": "code",
      "execution_count": 13,
      "id": "competent-michael",
      "metadata": {
        "colab": {
          "base_uri": "https://localhost:8080/"
        },
        "id": "competent-michael",
        "outputId": "18ab84e2-d879-49de-8d8b-0058e3417700"
      },
      "outputs": [
        {
          "output_type": "stream",
          "name": "stdout",
          "text": [
            "program start...\n",
            "\n",
            "[LibSVM]\n",
            "0.6252889079789736\n",
            "\n",
            "['PartOfAHorizontalPortScan' 'Attack' 'PartOfAHorizontalPortScan' ...\n",
            " 'PartOfAHorizontalPortScan' 'PartOfAHorizontalPortScan'\n",
            " 'PartOfAHorizontalPortScan']\n",
            "\n",
            "program end...\n",
            "\n",
            "time cost: \n",
            "4399.1602420806885 seconds\n"
          ]
        }
      ],
      "source": [
        "start = time.time()\n",
        "print('program start...')\n",
        "print()\n",
        "\n",
        "SVM_classifier = SVC(C=1.0, cache_size=1500, verbose=True).fit(X_train, Y_train)\n",
        "print()\n",
        "print(SVM_classifier.score(X_test, Y_test))\n",
        "print()\n",
        "\n",
        "y_pred = SVM_classifier.predict(X_test)\n",
        "print(y_pred)\n",
        "print()\n",
        "\n",
        "end = time.time()\n",
        "print('program end...')\n",
        "print()\n",
        "print('time cost: ')\n",
        "print(end - start, 'seconds')"
      ]
    },
    {
      "cell_type": "code",
      "execution_count": null,
      "id": "religious-borough",
      "metadata": {
        "id": "religious-borough",
        "outputId": "0c739765-4829-457f-f668-264f959199d1"
      },
      "outputs": [
        {
          "name": "stdout",
          "output_type": "stream",
          "text": [
            "Classifiction Report :\n"
          ]
        },
        {
          "name": "stderr",
          "output_type": "stream",
          "text": [
            "C:\\Users\\Dylan\\.conda\\envs\\tf24\\lib\\site-packages\\sklearn\\metrics\\_classification.py:1221: UndefinedMetricWarning: Precision and F-score are ill-defined and being set to 0.0 in labels with no predicted samples. Use `zero_division` parameter to control this behavior.\n",
            "  _warn_prf(average, modifier, msg_start, len(result))\n"
          ]
        },
        {
          "name": "stdout",
          "output_type": "stream",
          "text": [
            "                           precision    recall  f1-score   support\n",
            "\n",
            "                   Attack       0.97      0.99      0.98       743\n",
            "                   Benign       0.97      0.11      0.20     11473\n",
            "                      C&C       0.00      0.00      0.00         1\n",
            "            C&C-HeartBeat       0.00      0.00      0.00         3\n",
            "                C&C-Torii       0.00      0.00      0.00         6\n",
            "                     DDoS       0.00      0.00      0.00      4938\n",
            "                    Okiru       0.00      0.00      0.00      9749\n",
            "PartOfAHorizontalPortScan       0.68      1.00      0.81     53087\n",
            "\n",
            "                 accuracy                           0.69     80000\n",
            "                macro avg       0.33      0.26      0.25     80000\n",
            "             weighted avg       0.60      0.69      0.57     80000\n",
            "\n"
          ]
        }
      ],
      "source": [
        "print(\"Classifiction Report :\")\n",
        "print(classification_report(Y_test, y_pred))"
      ]
    }
  ],
  "metadata": {
    "kernelspec": {
      "display_name": "Python 3",
      "language": "python",
      "name": "python3"
    },
    "language_info": {
      "codemirror_mode": {
        "name": "ipython",
        "version": 3
      },
      "file_extension": ".py",
      "mimetype": "text/x-python",
      "name": "python",
      "nbconvert_exporter": "python",
      "pygments_lexer": "ipython3",
      "version": "3.8.5"
    },
    "colab": {
      "provenance": []
    }
  },
  "nbformat": 4,
  "nbformat_minor": 5
}